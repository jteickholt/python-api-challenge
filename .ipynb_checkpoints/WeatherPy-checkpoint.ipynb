{
 "cells": [
  {
   "cell_type": "markdown",
   "metadata": {},
   "source": [
    "# WeatherPy\n",
    "----\n",
    "\n",
    "#### Note\n",
    "* Instructions have been included for each segment. You do not have to follow them exactly, but they are included to help you think through the steps."
   ]
  },
  {
   "cell_type": "code",
   "execution_count": 64,
   "metadata": {
    "scrolled": true
   },
   "outputs": [],
   "source": [
    "# Dependencies and Setup\n",
    "import matplotlib.pyplot as plt\n",
    "import pandas as pd\n",
    "import numpy as np\n",
    "import requests\n",
    "import datetime\n",
    "\n",
    "# Import API key\n",
    "from api_keys import api_key\n",
    "\n",
    "# Incorporated citipy to determine city based on latitude and longitude\n",
    "from citipy import citipy\n",
    "\n",
    "#Import pprint\n",
    "from pprint import pprint\n",
    "\n",
    "# Output File (CSV)\n",
    "output_data_file = \"output_data/cities.csv\"\n",
    "\n",
    "# Range of latitudes and longitudes\n",
    "lat_range = (-90, 90)\n",
    "lng_range = (-180, 180)"
   ]
  },
  {
   "cell_type": "markdown",
   "metadata": {},
   "source": [
    "## Generate Cities List"
   ]
  },
  {
   "cell_type": "code",
   "execution_count": 46,
   "metadata": {},
   "outputs": [
    {
     "name": "stdout",
     "output_type": "stream",
     "text": [
      "23\n",
      "['port alfred', 'egvekinot', 'mahebourg', 'cape town', 'buchanan', 'tessalit', 'tuktoyaktuk', 'saldanha', 'ushuaia', 'mar del plata', 'barentsburg', 'kapaa', 'taolanaro', 'arraial do cabo', 'carnarvon', 'rikitea', 'port shepstone', 'umm lajj', 'bambous virieux', 'cayenne', 'great yarmouth', 'hermanus', 'san fernando']\n",
      "['za', 'ru', 'mu', 'za', 'lr', 'ml', 'ca', 'za', 'ar', 'ar', 'sj', 'us', 'mg', 'br', 'au', 'pf', 'za', 'sa', 'mu', 'gf', 'gb', 'za', 'mx']\n",
      "['port alfred,za', 'egvekinot,ru', 'mahebourg,mu', 'cape town,za', 'buchanan,lr', 'tessalit,ml', 'tuktoyaktuk,ca', 'saldanha,za', 'ushuaia,ar', 'mar del plata,ar', 'barentsburg,sj', 'kapaa,us', 'taolanaro,mg', 'arraial do cabo,br', 'carnarvon,au', 'rikitea,pf', 'port shepstone,za', 'umm lajj,sa', 'bambous virieux,mu', 'cayenne,gf', 'great yarmouth,gb', 'hermanus,za', 'san fernando,mx']\n"
     ]
    }
   ],
   "source": [
    "# List for holding lat_lngs and cities\n",
    "lat_lngs = []\n",
    "cities = []\n",
    "countrycode=[]\n",
    "city_country=[]\n",
    "\n",
    "# Create a set of random lat and lng combinations\n",
    "lats = np.random.uniform(low=-90.000, high=90.000, size=25)\n",
    "lngs = np.random.uniform(low=-180.000, high=180.000, size=25)\n",
    "lat_lngs = zip(lats, lngs)\n",
    "\n",
    "\n",
    "# Identify nearest city for each lat, lng combination\n",
    "# Also identify the country, so  more precise API call can be made later\n",
    "\n",
    "for lat_lng in lat_lngs:\n",
    "    city = citipy.nearest_city(lat_lng[0], lat_lng[1]).city_name\n",
    "    country = citipy.nearest_city(lat_lng[0], lat_lng[1]).country_code\n",
    "    # If the city is unique, then add it to a our cities list\n",
    "    if city not in cities:\n",
    "        cities.append(city)\n",
    "        countrycode.append(country)\n",
    "        \n",
    "# concatenate the city and country code\n",
    "for i in range(len(cities)):\n",
    "    city_country.append(cities[i] + \",\" + countrycode[i])\n",
    "\n",
    "# Print the city count to confirm sufficient count\n",
    "print(len(cities))\n",
    "print(cities)\n",
    "print(countrycode)\n",
    "print(city_country)"
   ]
  },
  {
   "cell_type": "markdown",
   "metadata": {},
   "source": [
    "### Perform API Calls\n",
    "* Perform a weather check on each city using a series of successive API calls.\n",
    "* Include a print log of each city as it'sbeing processed (with the city number and city name).\n"
   ]
  },
  {
   "cell_type": "code",
   "execution_count": 54,
   "metadata": {},
   "outputs": [
    {
     "name": "stdout",
     "output_type": "stream",
     "text": [
      "The city being processed is: Port Alfred, ZA.  The city ID is: 964432\n",
      "The city being processed is: Egvekinot, RU.  The city ID is: 4031742\n",
      "The city being processed is: Mahebourg, MU.  The city ID is: 934322\n",
      "The city being processed is: Cape Town, ZA.  The city ID is: 3369157\n",
      "The city being processed is: Buchanan, LR.  The city ID is: 2278158\n",
      "The city being processed is: Tessalit, ML.  The city ID is: 2449893\n",
      "The city being processed is: Tuktoyaktuk, CA.  The city ID is: 6170031\n",
      "The city being processed is: Saldanha, ZA.  The city ID is: 3361934\n",
      "The city being processed is: Ushuaia, AR.  The city ID is: 3833367\n",
      "The city being processed is: Mar del Plata, AR.  The city ID is: 3863379\n",
      "The thriving metropolis of barentsburg,sj was not found in Open Weather\n",
      "The city being processed is: Kapaa, US.  The city ID is: 5848280\n",
      "The thriving metropolis of taolanaro,mg was not found in Open Weather\n",
      "The city being processed is: Arraial do Cabo, BR.  The city ID is: 3471451\n",
      "The city being processed is: Carnarvon, AU.  The city ID is: 2074865\n",
      "The city being processed is: Rikitea, PF.  The city ID is: 4030556\n",
      "The city being processed is: Port Shepstone, ZA.  The city ID is: 964406\n",
      "The city being processed is: Umm Lajj, SA.  The city ID is: 100926\n",
      "The city being processed is: Bambous Virieux, MU.  The city ID is: 1106677\n",
      "The city being processed is: Cayenne, GF.  The city ID is: 3382160\n",
      "The city being processed is: Great Yarmouth, GB.  The city ID is: 2647984\n",
      "The city being processed is: Hermanus, ZA.  The city ID is: 3366880\n",
      "The city being processed is: San Fernando, MX.  The city ID is: 3483197\n",
      "[64.99, 9.52, 75.2, 70, 91.4, 85.12, -7.64, 67.3, 53.6, 68.4, 71.6, 77, 73.4, 70.95, 73.24, 80.55, 75.2, 91.4, 46, 70, 54.09]\n",
      "['Port Alfred', 'Egvekinot', 'Mahebourg', 'Cape Town', 'Buchanan', 'Tessalit', 'Tuktoyaktuk', 'Saldanha', 'Ushuaia', 'Mar del Plata', 'Kapaa', 'Arraial do Cabo', 'Carnarvon', 'Rikitea', 'Port Shepstone', 'Umm Lajj', 'Bambous Virieux', 'Cayenne', 'Great Yarmouth', 'Hermanus', 'San Fernando']\n",
      "['ZA', 'RU', 'MU', 'ZA', 'LR', 'ML', 'CA', 'ZA', 'AR', 'AR', 'US', 'BR', 'AU', 'PF', 'ZA', 'SA', 'MU', 'GF', 'GB', 'ZA', 'MX']\n",
      "[72, 40, 40, 40, 75, 0, 73, 0, 75, 73, 1, 90, 75, 57, 100, 78, 40, 20, 40, 84, 84]\n",
      "[1.99, 12.71, 8.05, 24.16, 8.68, 1.03, 6.2, 26.15, 4.7, 10.65, 6.93, 17.22, 8.05, 22.82, 6.49, 6.93, 8.05, 5.82, 3.36, 4, 10.49]\n",
      "[90, 94, 78, 68, 59, 8, 98, 73, 76, 35, 94, 78, 94, 79, 75, 55, 78, 52, 100, 97, 85]\n",
      "[-33.59, 66.32, -20.41, -33.93, 5.88, 20.2, 69.44, -33.01, -54.81, -46.43, 22.08, -22.97, -24.87, -23.12, -30.74, 25.02, -20.34, 4.94, 52.61, -34.42, 24.85]\n",
      "11/14/2019\n"
     ]
    }
   ],
   "source": [
    "url = \"http://api.openweathermap.org/data/2.5/weather?\"\n",
    "# city = \"hilo\"\n",
    "units = \"imperial\"\n",
    "\n",
    "# Build query URL\n",
    "\n",
    "cityname=[]\n",
    "temp=[]\n",
    "clouds=[]\n",
    "windspd=[]\n",
    "humidity=[]\n",
    "country_code=[]\n",
    "latitude=[]\n",
    "\n",
    "\n",
    "# query_url = url + \"appid=\" + api_key + \"&q=\" + city +\"&units=\" + units\n",
    "# weather_response = requests.get(query_url)\n",
    "# weather_json = weather_response.json()\n",
    "\n",
    "# pprint(weather_json)\n",
    "# weather_json.keys()\n",
    "\n",
    "for city in city_country:\n",
    "   \n",
    "    query_url = url + \"appid=\" + api_key + \"&q=\" + city + \"&units=\" + units\n",
    "    weather_response = requests.get(query_url)\n",
    "    weather_json = weather_response.json()\n",
    "    try:\n",
    "        print(f\"The city being processed is: {weather_json['name']}, {weather_json['sys']['country']}.  The city ID is: {weather_json['id']}\")\n",
    "#         cityname.append(weather_json['name'])      \n",
    "#         temp.append(weather_json['main']['temp'])\n",
    "    except KeyError:\n",
    "        print(f\"The thriving metropolis of {city} was not found in Open Weather\")\n",
    "    if weather_response.status_code == 200:\n",
    "        cityname.append(weather_json['name'])\n",
    "        country_code.append(weather_json['sys']['country'])\n",
    "        temp.append(weather_json['main']['temp_max'])\n",
    "        clouds.append(weather_json['clouds']['all'])\n",
    "        windspd.append(weather_json['wind']['speed'])\n",
    "        humidity.append(weather_json['main']['humidity'])\n",
    "        latitude.append(weather_json['coord']['lat'])\n",
    "print(temp)\n",
    "print(cityname)\n",
    "print(country_code)\n",
    "print(clouds)\n",
    "print(windspd)\n",
    "print(humidity)\n",
    "print(latitude)\n",
    "              \n",
    "current_time=datetime.datetime.now()\n",
    "date=f'{current_time.month}/{current_time.day}/{current_time.year}'\n",
    "print(date)"
   ]
  },
  {
   "cell_type": "markdown",
   "metadata": {},
   "source": [
    "### Convert Raw Data to DataFrame\n",
    "* Export the city data into a .csv.\n",
    "* Display the DataFrame"
   ]
  },
  {
   "cell_type": "code",
   "execution_count": 48,
   "metadata": {},
   "outputs": [
    {
     "data": {
      "text/html": [
       "<div>\n",
       "<style scoped>\n",
       "    .dataframe tbody tr th:only-of-type {\n",
       "        vertical-align: middle;\n",
       "    }\n",
       "\n",
       "    .dataframe tbody tr th {\n",
       "        vertical-align: top;\n",
       "    }\n",
       "\n",
       "    .dataframe thead th {\n",
       "        text-align: right;\n",
       "    }\n",
       "</style>\n",
       "<table border=\"1\" class=\"dataframe\">\n",
       "  <thead>\n",
       "    <tr style=\"text-align: right;\">\n",
       "      <th></th>\n",
       "      <th>city</th>\n",
       "      <th>country</th>\n",
       "      <th>latitude</th>\n",
       "      <th>temp</th>\n",
       "      <th>clouds</th>\n",
       "      <th>windspd</th>\n",
       "      <th>humidity</th>\n",
       "    </tr>\n",
       "  </thead>\n",
       "  <tbody>\n",
       "    <tr>\n",
       "      <th>0</th>\n",
       "      <td>Port Alfred</td>\n",
       "      <td>ZA</td>\n",
       "      <td>-33.59</td>\n",
       "      <td>64.99</td>\n",
       "      <td>72</td>\n",
       "      <td>1.99</td>\n",
       "      <td>90</td>\n",
       "    </tr>\n",
       "    <tr>\n",
       "      <th>1</th>\n",
       "      <td>Egvekinot</td>\n",
       "      <td>RU</td>\n",
       "      <td>66.32</td>\n",
       "      <td>9.52</td>\n",
       "      <td>40</td>\n",
       "      <td>12.71</td>\n",
       "      <td>94</td>\n",
       "    </tr>\n",
       "    <tr>\n",
       "      <th>2</th>\n",
       "      <td>Mahebourg</td>\n",
       "      <td>MU</td>\n",
       "      <td>-20.41</td>\n",
       "      <td>77.00</td>\n",
       "      <td>75</td>\n",
       "      <td>8.05</td>\n",
       "      <td>73</td>\n",
       "    </tr>\n",
       "    <tr>\n",
       "      <th>3</th>\n",
       "      <td>Cape Town</td>\n",
       "      <td>ZA</td>\n",
       "      <td>-33.93</td>\n",
       "      <td>71.01</td>\n",
       "      <td>40</td>\n",
       "      <td>24.16</td>\n",
       "      <td>68</td>\n",
       "    </tr>\n",
       "    <tr>\n",
       "      <th>4</th>\n",
       "      <td>Buchanan</td>\n",
       "      <td>LR</td>\n",
       "      <td>5.88</td>\n",
       "      <td>91.40</td>\n",
       "      <td>75</td>\n",
       "      <td>8.68</td>\n",
       "      <td>59</td>\n",
       "    </tr>\n",
       "  </tbody>\n",
       "</table>\n",
       "</div>"
      ],
      "text/plain": [
       "          city country  latitude   temp  clouds  windspd  humidity\n",
       "0  Port Alfred      ZA    -33.59  64.99      72     1.99        90\n",
       "1    Egvekinot      RU     66.32   9.52      40    12.71        94\n",
       "2    Mahebourg      MU    -20.41  77.00      75     8.05        73\n",
       "3    Cape Town      ZA    -33.93  71.01      40    24.16        68\n",
       "4     Buchanan      LR      5.88  91.40      75     8.68        59"
      ]
     },
     "execution_count": 48,
     "metadata": {},
     "output_type": "execute_result"
    }
   ],
   "source": [
    "weather_dict = {\n",
    "    'city' : cityname,\n",
    "    'country' : country_code,\n",
    "    'latitude' : latitude,\n",
    "    'temp' : temp,\n",
    "    'clouds' : clouds,\n",
    "    'windspd' : windspd,\n",
    "    'humidity' : humidity\n",
    "}\n",
    "\n",
    "#put the dictionary into a dataframe\n",
    "\n",
    "weather_data=pd.DataFrame(weather_dict)\n",
    "\n",
    "#output the data to a csv file\n",
    "\n",
    "weather_data.to_csv(output_data_file)\n",
    "\n",
    "weather_data.head()"
   ]
  },
  {
   "cell_type": "markdown",
   "metadata": {},
   "source": [
    "### Plotting the Data\n",
    "* Use proper labeling of the plots using plot titles (including date of analysis) and axes labels.\n",
    "* Save the plotted figures as .pngs."
   ]
  },
  {
   "cell_type": "markdown",
   "metadata": {},
   "source": [
    "#### Latitude vs. Temperature Plot"
   ]
  },
  {
   "cell_type": "code",
   "execution_count": 60,
   "metadata": {},
   "outputs": [
    {
     "data": {
      "text/plain": [
       "Text(0, 0.5, 'Max Temperature (F)')"
      ]
     },
     "execution_count": 60,
     "metadata": {},
     "output_type": "execute_result"
    },
    {
     "data": {
      "image/png": "[encoded data removed]",
      "text/plain": [
       "<Figure size 432x288 with 1 Axes>"
      ]
     },
     "metadata": {
      "needs_background": "light"
     },
     "output_type": "display_data"
    }
   ],
   "source": [
    "#Plot the latitude vs. temperature \n",
    "\n",
    "fig, ax = plt.subplots()\n",
    "\n",
    "plt.scatter(latitude, temp, color='cornflowerblue' , edgecolors='black')\n",
    "\n",
    "# Here I set some chart attributes.  Note that I fix the xaxis ticks and range as we know the absolute range of the latitude\n",
    "# But I let the yaxis range and ticks be set based on the data, since this range would change depending on the sample\n",
    "# and time of year that code was run\n",
    "\n",
    "plt.xticks(np.arange(-90, 100, 20))\n",
    "plt.xlim(-95, 95)\n",
    "plt.title(f'City Latitude vs. Max. Temperature ({date})')\n",
    "ax.set_xlabel('Latitude')\n",
    "ax.set_ylabel('Max Temperature (F)')"
   ]
  },
  {
   "cell_type": "markdown",
   "metadata": {},
   "source": [
    "#### Latitude vs. Humidity Plot"
   ]
  },
  {
   "cell_type": "code",
   "execution_count": 61,
   "metadata": {},
   "outputs": [
    {
     "data": {
      "text/plain": [
       "Text(0, 0.5, 'Humidity (%)')"
      ]
     },
     "execution_count": 61,
     "metadata": {},
     "output_type": "execute_result"
    },
    {
     "data": {
      "image/png": "[encoded data removed]",
      "text/plain": [
       "<Figure size 432x288 with 1 Axes>"
      ]
     },
     "metadata": {
      "needs_background": "light"
     },
     "output_type": "display_data"
    }
   ],
   "source": [
    "fig, ax = plt.subplots()\n",
    "\n",
    "plt.scatter(latitude, humidity,color='cornflowerblue' , edgecolors='black')\n",
    "\n",
    "# Here I set some chart attributes.  Note that I fix the xaxis ticks and range as we know the absolute range of the latitude\n",
    "# But I let the yaxis range and ticks be set based on the data, since this range would change depending on the sample\n",
    "# and time of year that code was run\n",
    "\n",
    "plt.xticks(np.arange(-90, 100, 20))\n",
    "plt.xlim(-95, 95)\n",
    "plt.title(f'City Latitude vs. Humidity ({date})')\n",
    "ax.set_xlabel('Latitude')\n",
    "ax.set_ylabel('Humidity (%)')\n"
   ]
  },
  {
   "cell_type": "markdown",
   "metadata": {},
   "source": [
    "#### Latitude vs. Cloudiness Plot"
   ]
  },
  {
   "cell_type": "code",
   "execution_count": 62,
   "metadata": {},
   "outputs": [
    {
     "data": {
      "text/plain": [
       "Text(0, 0.5, 'Cloudiness (%)')"
      ]
     },
     "execution_count": 62,
     "metadata": {},
     "output_type": "execute_result"
    },
    {
     "data": {
      "image/png": "[encoded data removed]",
      "text/plain": [
       "<Figure size 432x288 with 1 Axes>"
      ]
     },
     "metadata": {
      "needs_background": "light"
     },
     "output_type": "display_data"
    }
   ],
   "source": [
    "fig, ax = plt.subplots()\n",
    "\n",
    "plt.scatter(latitude, clouds, color='cornflowerblue' , edgecolors='black')\n",
    "\n",
    "# Here I set some chart attributes.  Note that I fix the xaxis ticks and range as we know the absolute range of the latitude\n",
    "# But I let the yaxis range and ticks be set based on the data, since this range would change depending on the sample\n",
    "# and time of year that code was run\n",
    "\n",
    "plt.xticks(np.arange(-90, 100, 20))\n",
    "plt.xlim(-95, 95)\n",
    "plt.title(f'City Latitude vs. Cloudiness ({date})')\n",
    "ax.set_xlabel('Latitude')\n",
    "ax.set_ylabel('Cloudiness (%)')\n"
   ]
  },
  {
   "cell_type": "markdown",
   "metadata": {},
   "source": [
    "#### Latitude vs. Wind Speed Plot"
   ]
  },
  {
   "cell_type": "code",
   "execution_count": 63,
   "metadata": {},
   "outputs": [
    {
     "data": {
      "text/plain": [
       "Text(0, 0.5, 'Wind Speed (mph)')"
      ]
     },
     "execution_count": 63,
     "metadata": {},
     "output_type": "execute_result"
    },
    {
     "data": {
      "image/png": "[encoded data removed]",
      "text/plain": [
       "<Figure size 432x288 with 1 Axes>"
      ]
     },
     "metadata": {
      "needs_background": "light"
     },
     "output_type": "display_data"
    }
   ],
   "source": [
    "fig, ax = plt.subplots()\n",
    "\n",
    "plt.scatter(latitude, windspd, color='cornflowerblue' , edgecolors='black')\n",
    "\n",
    "# Here I set some chart attributes.  Note that I fix the xaxis ticks and range as we know the absolute range of the latitude\n",
    "# But I let the yaxis range and ticks be set based on the data, since this range would change depending on the sample\n",
    "# and time of year that code was run\n",
    "\n",
    "plt.xticks(np.arange(-90, 100, 20))\n",
    "plt.xlim(-95, 95)\n",
    "plt.title(f'City Latitude vs. Wind Speed ({date})')\n",
    "ax.set_xlabel('Latitude')\n",
    "ax.set_ylabel('Wind Speed (mph)')"
   ]
  },
  {
   "cell_type": "code",
   "execution_count": null,
   "metadata": {},
   "outputs": [],
   "source": []
  }
 ],
 "metadata": {
  "anaconda-cloud": {},
  "kernel_info": {
   "name": "python3"
  },
  "kernelspec": {
   "display_name": "Python 3",
   "language": "python",
   "name": "python3"
  },
  "language_info": {
   "codemirror_mode": {
    "name": "ipython",
    "version": 3
   },
   "file_extension": ".py",
   "mimetype": "text/x-python",
   "name": "python",
   "nbconvert_exporter": "python",
   "pygments_lexer": "ipython3",
   "version": "3.7.3"
  },
  "nteract": {
   "version": "0.12.3"
  }
 },
 "nbformat": 4,
 "nbformat_minor": 2
}
